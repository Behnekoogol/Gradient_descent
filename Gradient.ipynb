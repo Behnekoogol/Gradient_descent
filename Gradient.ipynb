{
 "cells": [
  {
   "cell_type": "markdown",
   "id": "8e9e6ffc-4f7f-4240-be20-fd47813c96d6",
   "metadata": {},
   "source": [
    "# Gradient Descent"
   ]
  },
  {
   "cell_type": "code",
   "execution_count": 1,
   "id": "94147dff-39ee-4db3-b3cc-008c6487a2fb",
   "metadata": {
    "tags": []
   },
   "outputs": [],
   "source": [
    "import numpy as np"
   ]
  },
  {
   "cell_type": "code",
   "execution_count": 2,
   "id": "be905444-3dab-4d38-83f4-ac7134b27516",
   "metadata": {
    "tags": []
   },
   "outputs": [],
   "source": [
    "np.random.seed(0)"
   ]
  },
  {
   "cell_type": "markdown",
   "id": "33d6b804-99c7-4688-8086-d511853a0c45",
   "metadata": {},
   "source": [
    "# Generate Data"
   ]
  },
  {
   "cell_type": "code",
   "execution_count": 3,
   "id": "3a684297-4f86-449b-93e0-91a2d14c0bed",
   "metadata": {
    "tags": []
   },
   "outputs": [],
   "source": [
    "n, d = 100, 3\n",
    "X = np.random.rand(n, d)\n"
   ]
  },
  {
   "cell_type": "code",
   "execution_count": 4,
   "id": "8df711da-b5d9-421c-b4ef-c9422acfc1b2",
   "metadata": {
    "tags": []
   },
   "outputs": [],
   "source": [
    "# w_gt : the Actual value of w \n",
    "w_gt = np.array([1, 2, 3])"
   ]
  },
  {
   "cell_type": "code",
   "execution_count": 5,
   "id": "91259ce1-1f6d-4875-8318-b9917d083938",
   "metadata": {
    "tags": []
   },
   "outputs": [
    {
     "data": {
      "text/plain": [
       "array([[1],\n",
       "       [2],\n",
       "       [3]])"
      ]
     },
     "execution_count": 5,
     "metadata": {},
     "output_type": "execute_result"
    }
   ],
   "source": [
    "w_gt.reshape(-1, 1)"
   ]
  },
  {
   "cell_type": "code",
   "execution_count": 6,
   "id": "dba67ce6-9e0e-4f31-9562-e38393992da8",
   "metadata": {
    "tags": []
   },
   "outputs": [],
   "source": [
    "error = np.random.randn(100, 1)"
   ]
  },
  {
   "cell_type": "code",
   "execution_count": 7,
   "id": "b85aee01-35a4-4b59-81ba-56e72eaef0f1",
   "metadata": {
    "tags": []
   },
   "outputs": [],
   "source": [
    "y = X @ w_gt.reshape(-1, 1) + error"
   ]
  },
  {
   "cell_type": "code",
   "execution_count": 8,
   "id": "314c5363-c0a2-460d-8f19-e55f6cf5b3af",
   "metadata": {
    "tags": []
   },
   "outputs": [],
   "source": [
    "X = np.hstack((np.ones((n, 1)), X))"
   ]
  },
  {
   "cell_type": "markdown",
   "id": "3f9c96ec-b60c-4436-91af-4eded0a5fee2",
   "metadata": {},
   "source": [
    "## Gradient Descent"
   ]
  },
  {
   "cell_type": "markdown",
   "id": "16c1453b-968f-4e65-9b7e-832c4b47d484",
   "metadata": {
    "tags": []
   },
   "source": [
    "- number of iterations \n",
    "- error difference"
   ]
  },
  {
   "cell_type": "code",
   "execution_count": 9,
   "id": "f47ca043-79f7-4660-b84b-7cf85f821a05",
   "metadata": {
    "tags": []
   },
   "outputs": [],
   "source": [
    "#define Gradient Function \n",
    "def gradient(X, y, w):\n",
    "    n, d = X.shape\n",
    "    grad = X.T @ ((X @ w) - y) / n\n",
    "    return grad "
   ]
  },
  {
   "cell_type": "code",
   "execution_count": 10,
   "id": "b3022033-017a-4fe7-bd0f-7f20c613dd2b",
   "metadata": {
    "tags": []
   },
   "outputs": [
    {
     "data": {
      "text/plain": [
       "array([[-2.90928278],\n",
       "       [-1.5532363 ],\n",
       "       [-1.56101271],\n",
       "       [-1.76752543]])"
      ]
     },
     "execution_count": 10,
     "metadata": {},
     "output_type": "execute_result"
    }
   ],
   "source": [
    "#Example\n",
    "gradient(X, y, np.zeros((4, 1)))"
   ]
  },
  {
   "cell_type": "code",
   "execution_count": 11,
   "id": "334425c8-c84e-4eba-b999-8a84353c0259",
   "metadata": {
    "tags": []
   },
   "outputs": [],
   "source": [
    "#cost function for measuring the difference Error\n",
    "def cost_function(X, y, w):\n",
    "    n, d = X.shape\n",
    "    y_pred = X @ w\n",
    "    return np.sum((y - y_pred) ** 2)/ (2 * n)"
   ]
  },
  {
   "cell_type": "code",
   "execution_count": 12,
   "id": "bf47249c-0ef4-42ee-b8d2-554af80aab4b",
   "metadata": {
    "tags": []
   },
   "outputs": [],
   "source": [
    "# to get adaptive step-size \n",
    "def line_search(X, y, w, tel=0.001, betha=0.7):\n",
    "    \n",
    "    old_cost = cost_function(X, y, w)\n",
    "    grad = gradient(X, y, w)\n",
    "    step_size = 10\n",
    "    \n",
    "    while cost_function(X, y, w - step_size * grad) > old_cost + tel: \n",
    "        step_size = step_size * betha \n",
    "        \n",
    "    return step_size"
   ]
  },
  {
   "cell_type": "code",
   "execution_count": 13,
   "id": "c8a05832-98e9-4b2b-be06-bf9e2a893a7b",
   "metadata": {
    "tags": []
   },
   "outputs": [],
   "source": [
    "# define w and costs in Data\n",
    "def gradient_descent(X, y, num_iter=100):\n",
    "    #fisrt we assume '0' for w\n",
    "    n, d = X.shape\n",
    "    w = np.zeros((d, 1))\n",
    "    \n",
    "    costs = []\n",
    "    for _ in range(num_iter):\n",
    "        step_size = line_search(X, y, w)\n",
    "        w = w - step_size * gradient(X, y, w)\n",
    "        costs.append(cost_function(X, y, w))\n",
    "        \n",
    "    return w, costs"
   ]
  },
  {
   "cell_type": "code",
   "execution_count": 14,
   "id": "781b08a2-90ff-4d2d-93bf-2d6595b09b1a",
   "metadata": {
    "tags": []
   },
   "outputs": [
    {
     "data": {
      "text/plain": [
       "array([[-0.07231239],\n",
       "       [ 0.57219368],\n",
       "       [ 1.95750881],\n",
       "       [ 3.22867608]])"
      ]
     },
     "execution_count": 14,
     "metadata": {},
     "output_type": "execute_result"
    }
   ],
   "source": [
    "w, costs = gradient_descent(X, y, num_iter=100)\n",
    "w"
   ]
  },
  {
   "cell_type": "code",
   "execution_count": 15,
   "id": "71732ae4-8bae-4370-8270-f9b2f3353861",
   "metadata": {
    "tags": []
   },
   "outputs": [
    {
     "data": {
      "text/plain": [
       "0.4341017908519645"
      ]
     },
     "execution_count": 15,
     "metadata": {},
     "output_type": "execute_result"
    }
   ],
   "source": [
    "cost_function(X, y, w)"
   ]
  },
  {
   "cell_type": "code",
   "execution_count": 16,
   "id": "da60bc34-9efc-4949-bdb2-53ffd1c21c73",
   "metadata": {
    "tags": []
   },
   "outputs": [],
   "source": [
    "import matplotlib.pyplot as plt\n",
    "%matplotlib inline"
   ]
  },
  {
   "cell_type": "code",
   "execution_count": 17,
   "id": "8d0babaf-c561-44fa-935a-36925ad14d09",
   "metadata": {
    "tags": []
   },
   "outputs": [
    {
     "data": {
      "image/png": "[encoded data removed]",
      "text/plain": [
       "<Figure size 640x480 with 1 Axes>"
      ]
     },
     "metadata": {},
     "output_type": "display_data"
    }
   ],
   "source": [
    "plt.plot(\n",
    "    range(len(costs)),\n",
    "    costs,\n",
    ");"
   ]
  },
  {
   "cell_type": "code",
   "execution_count": null,
   "id": "e3bdb384-d9e0-4523-ba32-eafc18b94f5b",
   "metadata": {},
   "outputs": [],
   "source": []
  }
 ],
 "metadata": {
  "kernelspec": {
   "display_name": "Python 3 (ipykernel)",
   "language": "python",
   "name": "python3"
  },
  "language_info": {
   "codemirror_mode": {
    "name": "ipython",
    "version": 3
   },
   "file_extension": ".py",
   "mimetype": "text/x-python",
   "name": "python",
   "nbconvert_exporter": "python",
   "pygments_lexer": "ipython3",
   "version": "3.10.12"
  }
 },
 "nbformat": 4,
 "nbformat_minor": 5
}
